{
 "cells": [
  {
   "cell_type": "code",
   "execution_count": 28,
   "id": "c3ec8784-0738-4456-9a53-3306c0e4ffac",
   "metadata": {},
   "outputs": [],
   "source": [
    "import jax\n",
    "import brax\n",
    "from dm_control import mjcf\n",
    "import mujoco\n",
    "from mujoco import mjx\n",
    "from brax.io import html, model\n",
    "from IPython.display import HTML\n",
    "from dm_control import viewer\n",
    "import mediapy as media\n",
    "from dm_control import suite"
   ]
  },
  {
   "cell_type": "code",
   "execution_count": 29,
   "id": "715692e3-6dc1-4418-bbb8-3ba0b910f603",
   "metadata": {},
   "outputs": [
    {
     "name": "stdout",
     "output_type": "stream",
     "text": [
      "<mujoco model=\"unnamed_model\">\n",
      "  <default>\n",
      "    <default class=\"/\"/>\n",
      "  </default>\n",
      "  <worldbody>\n",
      "    <geom name=\"my_box\" class=\"/\" type=\"box\" size=\"1 1 1\" pos=\"0 0.10000000000000001 0\"/>\n",
      "  </worldbody>\n",
      "</mujoco>\n",
      "\n"
     ]
    }
   ],
   "source": [
    "model = mjcf.RootElement()\n",
    "my_box = model.worldbody.add('geom', name='my_box', type='box', pos=[0, .1, 0], size=[1, 1, 1])\n",
    "print(model.to_xml_string())"
   ]
  },
  {
   "cell_type": "code",
   "execution_count": 30,
   "id": "b327a435-7efc-4744-b990-4e2fe117412d",
   "metadata": {},
   "outputs": [],
   "source": [
    "mj_model = mujoco.MjModel.from_xml_string(model.to_xml_string())\n",
    "mj_data = mujoco.MjData(mj_model)\n",
    "renderer = mujoco.Renderer(mj_model)"
   ]
  },
  {
   "cell_type": "code",
   "execution_count": null,
   "id": "1b7f6f8e-cea4-4df6-b4ee-6e9268fa5528",
   "metadata": {},
   "outputs": [],
   "source": [
    "viewer.launch(mj_model)"
   ]
  },
  {
   "cell_type": "code",
   "execution_count": null,
   "id": "238a1752-ee44-4369-83d2-52b4f892bcd1",
   "metadata": {},
   "outputs": [],
   "source": []
  }
 ],
 "metadata": {
  "kernelspec": {
   "display_name": "Python 3 (ipykernel)",
   "language": "python",
   "name": "python3"
  },
  "language_info": {
   "codemirror_mode": {
    "name": "ipython",
    "version": 3
   },
   "file_extension": ".py",
   "mimetype": "text/x-python",
   "name": "python",
   "nbconvert_exporter": "python",
   "pygments_lexer": "ipython3",
   "version": "3.11.6"
  }
 },
 "nbformat": 4,
 "nbformat_minor": 5
}
